{
  "nbformat": 4,
  "nbformat_minor": 0,
  "metadata": {
    "colab": {
      "name": "All-in-one Colab Setup.ipynb",
      "provenance": [],
      "collapsed_sections": []
    },
    "kernelspec": {
      "name": "python3",
      "display_name": "Python 3"
    }
  },
  "cells": [
    {
      "cell_type": "markdown",
      "metadata": {
        "id": "A28RYzUI5mHo",
        "colab_type": "text"
      },
      "source": [
        "\n",
        "# **Server and workspace setup**"
      ]
    },
    {
      "cell_type": "code",
      "metadata": {
        "id": "9u-IceGIhCmE",
        "colab_type": "code",
        "colab": {}
      },
      "source": [
        "# '''  <--- the first line to be un-commented\n",
        "# AFTER running the setup \n",
        "# step 1 and 2 for the first time, \n",
        "# un-comment the first line\n",
        "# so that the following two variables\n",
        "# would not change again!\n",
        "googleDriveAlreadySetUp = False\n",
        "sshServerAlreadySetUp = False\n",
        "# '''"
      ],
      "execution_count": 0,
      "outputs": []
    },
    {
      "cell_type": "markdown",
      "metadata": {
        "id": "NaKljkPKgQPF",
        "colab_type": "text"
      },
      "source": [
        "##**Step 1. Mount your google drive to */content***\n",
        "\n",
        "\n",
        "---\n",
        "\n",
        "\n",
        "1. The *`/content`* directory is the only place where Google Colab allows file-writing. However, it is NOT persistent between each connection! (All change you make here will be erased once disconnected!!)\n",
        "\n",
        "2. And, Google Colab stays in /content would not `cd` to anyother folders (both inside and outside /content)!\n",
        "\n",
        "   ```\n",
        "        ! pwd >>> /content\n",
        "        ! cd ../ | pwd >>> /content\n",
        "        ! cd ~ | pwd >>> /content\n",
        "        ! cd / | pwd >>> /content\n",
        "        ! cd /content/gdrive | pwd >>> /content\n",
        "   ```\n",
        "\n",
        "\n",
        "\n",
        "3. So, all newly downloaded/created files & folders **(through \"`!-commands`\" on this notebook interface without an abosolute path)** automatically go to *`/content`*!! \n",
        "\n",
        "\n",
        "4. However, if you are **accessing the server using ssh** (see Step 2), you can make changes in 2 places: \n",
        "        a) /content\n",
        "        b) your google drive folder (wherever it is mounted to)\n",
        "        \n",
        "5. The conclusion: \n",
        "\n",
        "    **a) only make changes in /content/gdrive**\n",
        "\n",
        "    **b) always use absolute path in Colab notebook**\n",
        "    \n",
        "6. For shared drives: everything is the same as gdrive/My\\ Drive. \n",
        "    - expecting some file lock features to prevent simultaneous editing \n",
        "    - but didn't experient on that yet (#learning_through_errors)"
      ]
    },
    {
      "cell_type": "code",
      "metadata": {
        "id": "qPVx49_BLeK6",
        "colab_type": "code",
        "colab": {
          "base_uri": "https://localhost:8080/",
          "height": 34
        },
        "outputId": "19f1e21d-1027-4ee2-c6e3-15c5ea453b03"
      },
      "source": [
        "if not googleDriveAlreadySetUp:\n",
        "    from google.colab import drive\n",
        "    drive.mount('/content/gdrive')\n",
        "    googleDriveAlreadySetUp = True"
      ],
      "execution_count": 22,
      "outputs": [
        {
          "output_type": "stream",
          "text": [
            "Mounted at /content/gdrive\n"
          ],
          "name": "stdout"
        }
      ]
    },
    {
      "cell_type": "markdown",
      "metadata": {
        "id": "aTVSnQCIgr1E",
        "colab_type": "text"
      },
      "source": [
        "##**Step 2. Server setup**\n",
        "\n",
        "\n",
        "---\n",
        "\n",
        "\n",
        "Notes: \n",
        "\n",
        "1. Once setup, go to your choice of terminal and do ***`ssh root@0.tcp.ngrok.io -p [port#]`*** and enter the generated random password, you're in!\n",
        "\n",
        "2. **Sometimes you will encounter the following error message:**\n",
        "    ```\n",
        "    Traceback (most recent call last):\n",
        "    File \"<string>\", line 1, in <module>\n",
        "    IndexError: list index out of range\n",
        "    ```\n",
        "   This may (or may not) be because of the following line:\n",
        "   ```\n",
        "   ! curl -s http://localhost:4040/api/tunnels | python3 -c \\\n",
        "        \"import sys, json; print(json.load(sys.stdin)['tunnels'][0]['public_url'])\"\n",
        "   ```\n",
        "   \n",
        "    *#TODO rewrite this line with python, not linux command.*\n",
        "   \n",
        "3. **Yet, the connection has been setup. To see the portal number, just run the cell again.**"
      ]
    },
    {
      "cell_type": "code",
      "metadata": {
        "id": "jB0n5oPrg3vk",
        "colab_type": "code",
        "colab": {
          "base_uri": "https://localhost:8080/",
          "height": 103
        },
        "outputId": "f0d6fee8-ce8f-4c39-9b64-b5569fba310f"
      },
      "source": [
        "if not sshServerAlreadySetUp:\n",
        "    #Generate root password\n",
        "    import random, string\n",
        "    global password\n",
        "    password = ''.join(random.choice(string.ascii_letters + string.digits) for i in range(20))\n",
        "\n",
        "    #Download ngrok\n",
        "    ! wget -q -c -nc https://bin.equinox.io/c/4VmDzA7iaHb/ngrok-stable-linux-amd64.zip\n",
        "    ! unzip -qq -n ngrok-stable-linux-amd64.zip\n",
        "    #Setup sshd\n",
        "    ! apt-get install -qq -o=Dpkg::Use-Pty=0 openssh-server pwgen > /dev/null\n",
        "    #Set root password\n",
        "    ! echo root:$password | chpasswd\n",
        "    ! mkdir -p /var/run/sshd\n",
        "    ! echo \"PermitRootLogin yes\" >> /etc/ssh/sshd_config\n",
        "    ! echo \"PasswordAuthentication yes\" >> /etc/ssh/sshd_config\n",
        "    ! echo \"LD_LIBRARY_PATH=/usr/lib64-nvidia\" >> /root/.bashrc\n",
        "    ! echo \"export LD_LIBRARY_PATH\" >> /root/.bashrc\n",
        "\n",
        "    #Run sshd\n",
        "    get_ipython().system_raw('/usr/sbin/sshd -D &')\n",
        "\n",
        "    #Ask token\n",
        "    print(\"Copy authtoken from https://dashboard.ngrok.com/auth\")\n",
        "    import getpass\n",
        "    authtoken = getpass.getpass()\n",
        "\n",
        "    #Create tunnel\n",
        "    get_ipython().system_raw('./ngrok authtoken $authtoken && ./ngrok tcp 22 &')\n",
        "    #Print root password\n",
        "    print(\"Root password: {}\".format(password))\n",
        "    #Get public address\n",
        "    ! curl -s http://localhost:4040/api/tunnels | python3 -c \\\n",
        "        \"import sys, json; print(json.load(sys.stdin)['tunnels'][0]['public_url'])\"\n",
        "    \n",
        "    # finished setup\n",
        "    print(\"ssh server already setup, do ssh root@0.tcp.ngrok.io -p [port# see below] \")\n",
        "    sshServerAlreadySetUp = True # could the bug be here? no more line after a indented command?\n",
        "    \n",
        "else:\n",
        "    print(\"ssh server already setup, do ssh root@0.tcp.ngrok.io -p [port# see below] \")   \n",
        "    print(\"password\", password)\n",
        "    ! curl -s http://localhost:4040/api/tunnels | python3 -c \\\n",
        "        \"import sys, json; print(json.load(sys.stdin)['tunnels'][0]['public_url'])\""
      ],
      "execution_count": 21,
      "outputs": [
        {
          "output_type": "stream",
          "text": [
            "Copy authtoken from https://dashboard.ngrok.com/auth\n",
            "··········\n",
            "Root password: xjUIZ5DhhLLPaKY8dFik\n",
            "tcp://0.tcp.ngrok.io:17050\n",
            "ssh server already setup, do ssh root@0.tcp.ngrok.io -p [port# see below] \n"
          ],
          "name": "stdout"
        }
      ]
    },
    {
      "cell_type": "markdown",
      "metadata": {
        "id": "c5kXFL4KfylA",
        "colab_type": "text"
      },
      "source": [
        "## Optional git/github/ssh-keygen/ssh-add setup\n",
        "\n",
        "\n",
        "- For once, run `ssh-keygen` and save id_ras in /content/gdrive/My\\ Drive/.ssh/id_rsa and save the public key in github setting\n",
        "\n",
        "- Every time connected to server, \n",
        "    1. run `eval $(ssh-agent)`\n",
        "    2. run `ssh-add /content/gdrive/My\\ Drive/.ssh/id_rsa`\n",
        "    3. set up local username & email (to be checked):\n",
        "```\n",
        "     git config user.name \"your-user-name\"\n",
        "     git config user.email \"your-email-addr\"\n",
        "```\n",
        "\n"
      ]
    },
    {
      "cell_type": "code",
      "metadata": {
        "id": "Gs-ktZp3lhMO",
        "colab_type": "code",
        "colab": {
          "base_uri": "https://localhost:8080/",
          "height": 34
        },
        "outputId": "a4369569-ef32-4c6a-81fe-0150357283ca"
      },
      "source": [
        "! eval $(ssh-agent)\n",
        "# ! cat /content/gdrive/My\\ Drive/.ssh/id_rsa.pub # commented out for security reasons\n",
        "# Run the following command via ssh server to avoid \"Could not open a connection to your authentication agent.\" error\n",
        "# ! ssh-add /content/gdrive/My\\ Drive/.ssh/id_rsa"
      ],
      "execution_count": 17,
      "outputs": [
        {
          "output_type": "stream",
          "text": [
            "Agent pid 1206\n"
          ],
          "name": "stdout"
        }
      ]
    },
    {
      "cell_type": "markdown",
      "metadata": {
        "id": "GMZXExnjjVG-",
        "colab_type": "text"
      },
      "source": [
        "**Step 3. Workplace Setup and Raw File Preparation** (an example using VQA task and dataset)\n",
        "\n",
        "\n",
        "---\n",
        "\n",
        "\n",
        "\n",
        "Directory path: /content/gdrive/Shared\\ drives/VQA\n",
        "\n",
        "\n",
        "\n",
        "---\n",
        "\n",
        "\n",
        "Notes on file system:\n",
        "1. `wget -P []` specifies the directory to download to, if not existing will be created.\n",
        "\n",
        "2. `unzip <zipped_file> -d [path_to_directory]` similarly\n",
        "\n",
        "2. Have to use absolute path since we cannot change current directory (run `pwd` will always return `/content`) in G-Colab notebook.\n",
        "\n",
        "\n",
        "---\n",
        "\n",
        "\n",
        "Notes on data collection:\n",
        "\n",
        "\n",
        "irrelavant, omited\n",
        "\n",
        "\n",
        "---\n",
        "\n",
        "Notes on folder structure:\n",
        "\n",
        "\n",
        "\n",
        "```\n",
        "root@addd4560b196:/content/gdrive/Shared drives/VQA# tree -a -C -L 4 ./\n",
        "./\n",
        "├── data\n",
        "│   ├── datahelper (https://github.com/GT-Vision-Lab/VQA)\n",
        "│   │   └── ...\n",
        "│   ├── raw zip\n",
        "│   |   ├── Annotations_Train_abstract_v002.zip\n",
        "│   |   └── Questions_Train_abstract_v002.zip\n",
        "│   └── abstract scene\n",
        "│   │   └── train                                                               \n",
        "│   │       ├── abstract_v002_train2015_annotations.json\n",
        "│   │       ├── MultipleChoice_abstract_v002_train2015_questions.json\n",
        "│   │       ├── OpenEnded_abstract_v002_train2015_questions.json\n",
        "│   │       └── images\n",
        "│   │           ├── abstract_v002_train2015_000000000000.png\n",
        "│   │           ├── abstract_v002_train2015_000000000001.png\n",
        "│   │           ├── ...\n",
        "│   │           ├── abstract_v002_train2015_000000019998.png\n",
        "│   │           └── abstract_v002_train2015_000000019999.png\n",
        "└── VQA_baseline_with_notes.ipynb\n",
        "\n",
        "39 directories, 43 files\n",
        "\n",
        "```\n",
        "The above tree was simplified by hand after retreived from the `tree` command.\n",
        "\n",
        "Note that you have to first *`sudo apt-get install tree`* on G-Colab (ssh).\n",
        "\n",
        "\n"
      ]
    },
    {
      "cell_type": "code",
      "metadata": {
        "id": "VvZtMQrvLrXr",
        "colab_type": "code",
        "colab": {
          "base_uri": "https://localhost:8080/",
          "height": 259
        },
        "outputId": "f097f7b9-3a35-4c4c-8b19-1bdb69023404"
      },
      "source": [
        "# Abstract Scene (same as v1.0 release)\n",
        "print(\"=============================================================================================\")\n",
        "print(\"\\nCollecting raw training data for abstract scenes...\\n\")\n",
        "print(\"---------------------------------------------------------------------------------------------\")\n",
        "\n",
        "'''Training Annotations'''\n",
        "\n",
        "# check if Annotations_Train_abstract_v002.zip is downloaded, if not, download it\n",
        "# ! test -f /content/gdrive/Shared\\ drives/VQA/data/raw\\ zip/Annotations_Train_abstract_v002.zip \\\n",
        "#     && echo \"Annotations_Train_abstract_v002.zip already here, skip download\" \\\n",
        "#     || { echo \"Annotations_Train_abstract_v002.zip does not exist, start downloading...\"; \\\n",
        "#          wget https://s3.amazonaws.com/cvmlp/vqa/abstract_v002/vqa/Annotations_Train_abstract_v002.zip \\\n",
        "#                 -P /content/gdrive/Shared\\ drives/VQA/data/raw\\ zip;}\n",
        "# /\n",
        "\n",
        "# check if Annotations_Train_abstract_v002.zip is unzipped, if not, unzip it\n",
        "# ! test -f /content/gdrive/Shared\\ drives/VQA/data/abstract\\ scene/train/abstract_v002_train2015_annotations.json \\\n",
        "#     && echo \"abstract_v002_train2015_annotations.json already here, skip unzip\" \\\n",
        "#     || { echo \"abstract_v002_train2015_annotations.json does not exist, start unzipping...\"; \\\n",
        "#          unzip /content/gdrive/Shared\\ drives/VQA/data/raw\\ zip/Annotations_Train_abstract_v002.zip \\\n",
        "#                -d /content/gdrive/Shared\\ drives/VQA/data/abstract\\ scene/train;}\n",
        "# /\n",
        "\n",
        "''' Training Questions '''\n",
        "# check if Questions_Train_abstract_v002.zip is downloaded, if not, download it\n",
        "# ! test -f /content/gdrive/Shared\\ drives/VQA/data/raw\\ zip/Questions_Train_abstract_v002.zip \\\n",
        "#     && echo \"Questions_Train_abstract_v002.zip already here, skip download\" \\\n",
        "#     || { echo \"Questions_Train_abstract_v002.zip does not exist, start downloading...\"; \\\n",
        "#          wget https://s3.amazonaws.com/cvmlp/vqa/abstract_v002/vqa/Questions_Train_abstract_v002.zip \\\n",
        "#                 -P /content/gdrive/Shared\\ drives/VQA/data/raw\\ zip;}\n",
        "# /\n",
        "\n",
        "# check if Questions_Train_abstract_v002.zip is unzipped, if not, unzip it\n",
        "# ! test -f /content/gdrive/Shared\\ drives/VQA/data/abstract\\ scene/train/OpenEnded_abstract_v002_train2015_questions.json \\\n",
        "#     && echo \"OpenEnded(MultipleChoice)_abstract_v002_train2015_questions.json already here, skip unzip\" \\\n",
        "#     || { echo \"OpenEnded(MultipleChoice)_abstract_v002_train2015_questions.json does not exist, start unzipping...\"; \\\n",
        "#          unzip /content/gdrive/Shared\\ drives/VQA/data/raw\\ zip/Questions_Train_abstract_v002.zip \\\n",
        "#                -d /content/gdrive/Shared\\ drives/VQA/data/abstract\\ scene/train;}\n",
        "# /\n",
        "\n",
        "''' Training Images '''\n",
        "# check if scene_img_abstract_v002_train2015.zip is downloaded, if not, download it\n",
        "# ! test -f /content/gdrive/Shared\\ drives/VQA/data/raw\\ zip/scene_img_abstract_v002_train2015.zip \\\n",
        "#     && echo \"scene_img_abstract_v002_train2015.zip already here, skip download\" \\\n",
        "#     || { echo \"scene_img_abstract_v002_train2015.zip does not exist, start downloading...\"; \\\n",
        "#          wget https://s3.amazonaws.com/cvmlp/vqa/abstract_v002/scene_img/scene_img_abstract_v002_train2015.zip \\\n",
        "#                 -P /content/gdrive/Shared\\ drives/VQA/data/raw\\ zip;}\n",
        "# /\n",
        "\n",
        "# check if Questions_Train_abstract_v002.zip is unzipped, if not, unzip it\n",
        "# ! test -f /content/gdrive/Shared\\ drives/VQA/data/abstract\\ scene/train/images/abstract_v002_train2015_000000019999.png \\\n",
        "#     && echo \"abstract scene/train/images already here, skip unzip\" \\\n",
        "#     || { echo \"abstract scene/train/images does not exist, start unzipping...\"; \\\n",
        "#          unzip /content/gdrive/Shared\\ drives/VQA/data/raw\\ zip/scene_img_abstract_v002_train2015.zip \\\n",
        "#                -d /content/gdrive/Shared\\ drives/VQA/data/abstract\\ scene/train/images;}\n",
        "# /\n",
        "print()\n",
        "\n",
        "print(\"raw data for abstract training collected.\")\n",
        "\n",
        "print(\"---------------------------------------------------------------------------------------------\")"
      ],
      "execution_count": 24,
      "outputs": [
        {
          "output_type": "stream",
          "text": [
            "=============================================================================================\n",
            "\n",
            "Collecting raw training data for abstract scenes...\n",
            "\n",
            "---------------------------------------------------------------------------------------------\n",
            "Annotations_Train_abstract_v002.zip already here, skip download\n",
            "abstract_v002_train2015_annotations.json already here, skip unzip\n",
            "Questions_Train_abstract_v002.zip already here, skip download\n",
            "OpenEnded(MultipleChoice)_abstract_v002_train2015_questions.json already here, skip unzip\n",
            "scene_img_abstract_v002_train2015.zip already here, skip download\n",
            "abstract scene/train/images already here, skip unzip\n",
            "\n",
            "raw data for abstract training collected.\n",
            "---------------------------------------------------------------------------------------------\n"
          ],
          "name": "stdout"
        }
      ]
    }
  ]
}